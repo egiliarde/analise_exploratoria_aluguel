{
 "cells": [
  {
   "cell_type": "markdown",
   "metadata": {},
   "source": [
    "## Analise Exploratória de Dados\n",
    "\n",
    "### Plataforma de Alugueis\n",
    "\n",
    "#### Objetivo:\n",
    "##### Analisar os dados fornecidos e responder perguntas, afim de auxiliar no desenvolvimento de um modelo de previsão de preços a partir do dataset oferecido, e avaliar tal modelo utilizando as métricas de avaliação que mais fazem sentido para o problema."
   ]
  },
  {
   "cell_type": "code",
   "execution_count": 2,
   "metadata": {},
   "outputs": [],
   "source": [
    "#importando bibliotecas\n",
    "import pandas as pd\n",
    "import matplotlib.pyplot as plt\n",
    "import seaborn as sbn\n",
    "import numpy as np\n",
    "\n",
    "plt.style.use('ggplot')"
   ]
  },
  {
   "cell_type": "code",
   "execution_count": 3,
   "metadata": {},
   "outputs": [],
   "source": [
    "#importando base de dados\n",
    "base = pd.read_csv('teste_indicium_precificacao.csv')"
   ]
  },
  {
   "cell_type": "code",
   "execution_count": 4,
   "metadata": {},
   "outputs": [
    {
     "data": {
      "text/html": [
       "<div>\n",
       "<style scoped>\n",
       "    .dataframe tbody tr th:only-of-type {\n",
       "        vertical-align: middle;\n",
       "    }\n",
       "\n",
       "    .dataframe tbody tr th {\n",
       "        vertical-align: top;\n",
       "    }\n",
       "\n",
       "    .dataframe thead th {\n",
       "        text-align: right;\n",
       "    }\n",
       "</style>\n",
       "<table border=\"1\" class=\"dataframe\">\n",
       "  <thead>\n",
       "    <tr style=\"text-align: right;\">\n",
       "      <th></th>\n",
       "      <th>id</th>\n",
       "      <th>nome</th>\n",
       "      <th>host_id</th>\n",
       "      <th>host_name</th>\n",
       "      <th>bairro_group</th>\n",
       "      <th>bairro</th>\n",
       "      <th>latitude</th>\n",
       "      <th>longitude</th>\n",
       "      <th>room_type</th>\n",
       "      <th>price</th>\n",
       "      <th>minimo_noites</th>\n",
       "      <th>numero_de_reviews</th>\n",
       "      <th>ultima_review</th>\n",
       "      <th>reviews_por_mes</th>\n",
       "      <th>calculado_host_listings_count</th>\n",
       "      <th>disponibilidade_365</th>\n",
       "    </tr>\n",
       "  </thead>\n",
       "  <tbody>\n",
       "    <tr>\n",
       "      <th>0</th>\n",
       "      <td>2595</td>\n",
       "      <td>Skylit Midtown Castle</td>\n",
       "      <td>2845</td>\n",
       "      <td>Jennifer</td>\n",
       "      <td>Manhattan</td>\n",
       "      <td>Midtown</td>\n",
       "      <td>40.75362</td>\n",
       "      <td>-73.98377</td>\n",
       "      <td>Entire home/apt</td>\n",
       "      <td>225</td>\n",
       "      <td>1</td>\n",
       "      <td>45</td>\n",
       "      <td>2019-05-21</td>\n",
       "      <td>0.38</td>\n",
       "      <td>2</td>\n",
       "      <td>355</td>\n",
       "    </tr>\n",
       "    <tr>\n",
       "      <th>1</th>\n",
       "      <td>3647</td>\n",
       "      <td>THE VILLAGE OF HARLEM....NEW YORK !</td>\n",
       "      <td>4632</td>\n",
       "      <td>Elisabeth</td>\n",
       "      <td>Manhattan</td>\n",
       "      <td>Harlem</td>\n",
       "      <td>40.80902</td>\n",
       "      <td>-73.94190</td>\n",
       "      <td>Private room</td>\n",
       "      <td>150</td>\n",
       "      <td>3</td>\n",
       "      <td>0</td>\n",
       "      <td>NaN</td>\n",
       "      <td>NaN</td>\n",
       "      <td>1</td>\n",
       "      <td>365</td>\n",
       "    </tr>\n",
       "    <tr>\n",
       "      <th>2</th>\n",
       "      <td>3831</td>\n",
       "      <td>Cozy Entire Floor of Brownstone</td>\n",
       "      <td>4869</td>\n",
       "      <td>LisaRoxanne</td>\n",
       "      <td>Brooklyn</td>\n",
       "      <td>Clinton Hill</td>\n",
       "      <td>40.68514</td>\n",
       "      <td>-73.95976</td>\n",
       "      <td>Entire home/apt</td>\n",
       "      <td>89</td>\n",
       "      <td>1</td>\n",
       "      <td>270</td>\n",
       "      <td>2019-07-05</td>\n",
       "      <td>4.64</td>\n",
       "      <td>1</td>\n",
       "      <td>194</td>\n",
       "    </tr>\n",
       "    <tr>\n",
       "      <th>3</th>\n",
       "      <td>5022</td>\n",
       "      <td>Entire Apt: Spacious Studio/Loft by central park</td>\n",
       "      <td>7192</td>\n",
       "      <td>Laura</td>\n",
       "      <td>Manhattan</td>\n",
       "      <td>East Harlem</td>\n",
       "      <td>40.79851</td>\n",
       "      <td>-73.94399</td>\n",
       "      <td>Entire home/apt</td>\n",
       "      <td>80</td>\n",
       "      <td>10</td>\n",
       "      <td>9</td>\n",
       "      <td>2018-11-19</td>\n",
       "      <td>0.10</td>\n",
       "      <td>1</td>\n",
       "      <td>0</td>\n",
       "    </tr>\n",
       "    <tr>\n",
       "      <th>4</th>\n",
       "      <td>5099</td>\n",
       "      <td>Large Cozy 1 BR Apartment In Midtown East</td>\n",
       "      <td>7322</td>\n",
       "      <td>Chris</td>\n",
       "      <td>Manhattan</td>\n",
       "      <td>Murray Hill</td>\n",
       "      <td>40.74767</td>\n",
       "      <td>-73.97500</td>\n",
       "      <td>Entire home/apt</td>\n",
       "      <td>200</td>\n",
       "      <td>3</td>\n",
       "      <td>74</td>\n",
       "      <td>2019-06-22</td>\n",
       "      <td>0.59</td>\n",
       "      <td>1</td>\n",
       "      <td>129</td>\n",
       "    </tr>\n",
       "  </tbody>\n",
       "</table>\n",
       "</div>"
      ],
      "text/plain": [
       "     id                                              nome  host_id  \\\n",
       "0  2595                             Skylit Midtown Castle     2845   \n",
       "1  3647               THE VILLAGE OF HARLEM....NEW YORK !     4632   \n",
       "2  3831                   Cozy Entire Floor of Brownstone     4869   \n",
       "3  5022  Entire Apt: Spacious Studio/Loft by central park     7192   \n",
       "4  5099         Large Cozy 1 BR Apartment In Midtown East     7322   \n",
       "\n",
       "     host_name bairro_group        bairro  latitude  longitude  \\\n",
       "0     Jennifer    Manhattan       Midtown  40.75362  -73.98377   \n",
       "1    Elisabeth    Manhattan        Harlem  40.80902  -73.94190   \n",
       "2  LisaRoxanne     Brooklyn  Clinton Hill  40.68514  -73.95976   \n",
       "3        Laura    Manhattan   East Harlem  40.79851  -73.94399   \n",
       "4        Chris    Manhattan   Murray Hill  40.74767  -73.97500   \n",
       "\n",
       "         room_type  price  minimo_noites  numero_de_reviews ultima_review  \\\n",
       "0  Entire home/apt    225              1                 45    2019-05-21   \n",
       "1     Private room    150              3                  0           NaN   \n",
       "2  Entire home/apt     89              1                270    2019-07-05   \n",
       "3  Entire home/apt     80             10                  9    2018-11-19   \n",
       "4  Entire home/apt    200              3                 74    2019-06-22   \n",
       "\n",
       "   reviews_por_mes  calculado_host_listings_count  disponibilidade_365  \n",
       "0             0.38                              2                  355  \n",
       "1              NaN                              1                  365  \n",
       "2             4.64                              1                  194  \n",
       "3             0.10                              1                    0  \n",
       "4             0.59                              1                  129  "
      ]
     },
     "execution_count": 4,
     "metadata": {},
     "output_type": "execute_result"
    }
   ],
   "source": [
    "#Verificando primeiras linhas da base de dados\n",
    "base.head()"
   ]
  },
  {
   "cell_type": "markdown",
   "metadata": {},
   "source": [
    "### Resumo dos dados\n",
    "\n",
    "*id* – Atua como uma chave exclusiva para cada anúncio nos dados do aplicativo\n",
    "\n",
    "*nome* - Representa o nome do anúncio\n",
    "\n",
    "*host_id* - Representa o id do usuário que hospedou o anúncio\n",
    "\n",
    "*host_name* – Contém o nome do usuário que hospedou o anúncio\n",
    "\n",
    "*bairro_group* - Contém o nome do bairro onde o anúncio está localizado\n",
    "\n",
    "*bairro* - Contém o nome da área onde o anúncio está localizado\n",
    "\n",
    "*latitude* - Contém a latitude do local\n",
    "\n",
    "*longitude* - Contém a longitude do local\n",
    "\n",
    "*room_type* – Contém o tipo de espaço de cada anúncio\n",
    "\n",
    "*price* - Contém o preço por noite em dólares listado pelo anfitrião\n",
    "\n",
    "*minimo_noites* - Contém o número mínimo de noites que o usuário deve reservar\n",
    "\n",
    "*numero_de_reviews* - Contém o número de comentários dados a cada listagem\n",
    "\n",
    "*ultima_review* - Contém a data da última revisão dada à listagem\n",
    "\n",
    "*reviews_por_mes* - Contém o número de avaliações fornecidas por mês\n",
    "\n",
    "*calculado_host_listings_count* - Contém a quantidade de listagem por host\n",
    "\n",
    "*disponibilidade_365* - Contém o número de dias em que o anúncio está disponível para reserva\n"
   ]
  },
  {
   "cell_type": "code",
   "execution_count": 5,
   "metadata": {},
   "outputs": [
    {
     "name": "stdout",
     "output_type": "stream",
     "text": [
      "<class 'pandas.core.frame.DataFrame'>\n",
      "RangeIndex: 48894 entries, 0 to 48893\n",
      "Data columns (total 16 columns):\n",
      " #   Column                         Non-Null Count  Dtype  \n",
      "---  ------                         --------------  -----  \n",
      " 0   id                             48894 non-null  int64  \n",
      " 1   nome                           48878 non-null  object \n",
      " 2   host_id                        48894 non-null  int64  \n",
      " 3   host_name                      48873 non-null  object \n",
      " 4   bairro_group                   48894 non-null  object \n",
      " 5   bairro                         48894 non-null  object \n",
      " 6   latitude                       48894 non-null  float64\n",
      " 7   longitude                      48894 non-null  float64\n",
      " 8   room_type                      48894 non-null  object \n",
      " 9   price                          48894 non-null  int64  \n",
      " 10  minimo_noites                  48894 non-null  int64  \n",
      " 11  numero_de_reviews              48894 non-null  int64  \n",
      " 12  ultima_review                  38842 non-null  object \n",
      " 13  reviews_por_mes                38842 non-null  float64\n",
      " 14  calculado_host_listings_count  48894 non-null  int64  \n",
      " 15  disponibilidade_365            48894 non-null  int64  \n",
      "dtypes: float64(3), int64(7), object(6)\n",
      "memory usage: 6.0+ MB\n"
     ]
    }
   ],
   "source": [
    "base.info()"
   ]
  },
  {
   "cell_type": "markdown",
   "metadata": {},
   "source": [
    "### Tratando os Dados"
   ]
  },
  {
   "cell_type": "code",
   "execution_count": 6,
   "metadata": {},
   "outputs": [],
   "source": [
    "# Salvando a base de dados antes do tratamento dos dados\n",
    "base1=base.copy()"
   ]
  },
  {
   "cell_type": "code",
   "execution_count": 7,
   "metadata": {},
   "outputs": [
    {
     "data": {
      "text/plain": [
       "id                                   0\n",
       "nome                                16\n",
       "host_id                              0\n",
       "host_name                           21\n",
       "bairro_group                         0\n",
       "bairro                               0\n",
       "latitude                             0\n",
       "longitude                            0\n",
       "room_type                            0\n",
       "price                                0\n",
       "minimo_noites                        0\n",
       "numero_de_reviews                    0\n",
       "ultima_review                    10052\n",
       "reviews_por_mes                  10052\n",
       "calculado_host_listings_count        0\n",
       "disponibilidade_365                  0\n",
       "dtype: int64"
      ]
     },
     "execution_count": 7,
     "metadata": {},
     "output_type": "execute_result"
    }
   ],
   "source": [
    "base1.isnull().sum()"
   ]
  },
  {
   "cell_type": "code",
   "execution_count": 8,
   "metadata": {},
   "outputs": [
    {
     "name": "stdout",
     "output_type": "stream",
     "text": [
      "79%\n"
     ]
    }
   ],
   "source": [
    "# Verificando se podemos apagar as linhas que continham valores em branco.\n",
    "print(\"{:.0%}\".format(base1['reviews_por_mes'].count() / base1.shape[0]))"
   ]
  },
  {
   "cell_type": "code",
   "execution_count": 9,
   "metadata": {},
   "outputs": [],
   "source": [
    "# Removendo Valores Vazios\n",
    "\n",
    "base1 = base1.dropna(how= \"any\", axis=0)"
   ]
  },
  {
   "cell_type": "code",
   "execution_count": 10,
   "metadata": {},
   "outputs": [
    {
     "data": {
      "text/plain": [
       "id                               0\n",
       "nome                             0\n",
       "host_id                          0\n",
       "host_name                        0\n",
       "bairro_group                     0\n",
       "bairro                           0\n",
       "latitude                         0\n",
       "longitude                        0\n",
       "room_type                        0\n",
       "price                            0\n",
       "minimo_noites                    0\n",
       "numero_de_reviews                0\n",
       "ultima_review                    0\n",
       "reviews_por_mes                  0\n",
       "calculado_host_listings_count    0\n",
       "disponibilidade_365              0\n",
       "dtype: int64"
      ]
     },
     "execution_count": 10,
     "metadata": {},
     "output_type": "execute_result"
    }
   ],
   "source": [
    "# Verificando se foi removido\n",
    "base1.isnull().sum()"
   ]
  },
  {
   "cell_type": "code",
   "execution_count": 27,
   "metadata": {},
   "outputs": [],
   "source": [
    "# convertendo tipo de dados, a tabela 'Ultima review' foi alterada para o tipo Data.\n",
    "base1['ultima_review'] = pd.to_datetime(base1['ultima_review'], errors=\"coerce\")\n",
    "base1['price'] = base1['price'].astype(float)"
   ]
  },
  {
   "cell_type": "code",
   "execution_count": 28,
   "metadata": {},
   "outputs": [
    {
     "name": "stdout",
     "output_type": "stream",
     "text": [
      "<class 'pandas.core.frame.DataFrame'>\n",
      "Index: 38820 entries, 0 to 48851\n",
      "Data columns (total 16 columns):\n",
      " #   Column                         Non-Null Count  Dtype         \n",
      "---  ------                         --------------  -----         \n",
      " 0   id                             38820 non-null  int64         \n",
      " 1   nome                           38820 non-null  object        \n",
      " 2   host_id                        38820 non-null  int64         \n",
      " 3   host_name                      38820 non-null  object        \n",
      " 4   bairro_group                   38820 non-null  object        \n",
      " 5   bairro                         38820 non-null  object        \n",
      " 6   latitude                       38820 non-null  float64       \n",
      " 7   longitude                      38820 non-null  float64       \n",
      " 8   room_type                      38820 non-null  object        \n",
      " 9   price                          38820 non-null  float64       \n",
      " 10  minimo_noites                  38820 non-null  int64         \n",
      " 11  numero_de_reviews              38820 non-null  int64         \n",
      " 12  ultima_review                  38820 non-null  datetime64[ns]\n",
      " 13  reviews_por_mes                38820 non-null  float64       \n",
      " 14  calculado_host_listings_count  38820 non-null  int64         \n",
      " 15  disponibilidade_365            38820 non-null  int64         \n",
      "dtypes: datetime64[ns](1), float64(4), int64(6), object(5)\n",
      "memory usage: 5.0+ MB\n"
     ]
    }
   ],
   "source": [
    "base1.info()"
   ]
  },
  {
   "cell_type": "code",
   "execution_count": 29,
   "metadata": {},
   "outputs": [],
   "source": [
    "# fixando em 2 casas decimais\n",
    "pd.options.display.float_format = '{:.2f}'.format"
   ]
  },
  {
   "cell_type": "code",
   "execution_count": 20,
   "metadata": {},
   "outputs": [
    {
     "data": {
      "text/html": [
       "<div>\n",
       "<style scoped>\n",
       "    .dataframe tbody tr th:only-of-type {\n",
       "        vertical-align: middle;\n",
       "    }\n",
       "\n",
       "    .dataframe tbody tr th {\n",
       "        vertical-align: top;\n",
       "    }\n",
       "\n",
       "    .dataframe thead th {\n",
       "        text-align: right;\n",
       "    }\n",
       "</style>\n",
       "<table border=\"1\" class=\"dataframe\">\n",
       "  <thead>\n",
       "    <tr style=\"text-align: right;\">\n",
       "      <th></th>\n",
       "      <th>id</th>\n",
       "      <th>host_id</th>\n",
       "      <th>latitude</th>\n",
       "      <th>longitude</th>\n",
       "      <th>price</th>\n",
       "      <th>minimo_noites</th>\n",
       "      <th>numero_de_reviews</th>\n",
       "      <th>ultima_review</th>\n",
       "      <th>reviews_por_mes</th>\n",
       "      <th>calculado_host_listings_count</th>\n",
       "      <th>disponibilidade_365</th>\n",
       "    </tr>\n",
       "  </thead>\n",
       "  <tbody>\n",
       "    <tr>\n",
       "      <th>count</th>\n",
       "      <td>38820.00</td>\n",
       "      <td>38820.00</td>\n",
       "      <td>38820.00</td>\n",
       "      <td>38820.00</td>\n",
       "      <td>38820.00</td>\n",
       "      <td>38820.00</td>\n",
       "      <td>38820.00</td>\n",
       "      <td>38820</td>\n",
       "      <td>38820.00</td>\n",
       "      <td>38820.00</td>\n",
       "      <td>38820.00</td>\n",
       "    </tr>\n",
       "    <tr>\n",
       "      <th>mean</th>\n",
       "      <td>18101274.43</td>\n",
       "      <td>64247473.53</td>\n",
       "      <td>40.73</td>\n",
       "      <td>-73.95</td>\n",
       "      <td>142.33</td>\n",
       "      <td>5.87</td>\n",
       "      <td>29.29</td>\n",
       "      <td>2018-10-04 07:23:14.374033920</td>\n",
       "      <td>1.37</td>\n",
       "      <td>5.17</td>\n",
       "      <td>114.88</td>\n",
       "    </tr>\n",
       "    <tr>\n",
       "      <th>min</th>\n",
       "      <td>2595.00</td>\n",
       "      <td>2438.00</td>\n",
       "      <td>40.51</td>\n",
       "      <td>-74.24</td>\n",
       "      <td>0.00</td>\n",
       "      <td>1.00</td>\n",
       "      <td>1.00</td>\n",
       "      <td>2011-03-28 00:00:00</td>\n",
       "      <td>0.01</td>\n",
       "      <td>1.00</td>\n",
       "      <td>0.00</td>\n",
       "    </tr>\n",
       "    <tr>\n",
       "      <th>25%</th>\n",
       "      <td>8722029.00</td>\n",
       "      <td>7032516.75</td>\n",
       "      <td>40.69</td>\n",
       "      <td>-73.98</td>\n",
       "      <td>69.00</td>\n",
       "      <td>1.00</td>\n",
       "      <td>3.00</td>\n",
       "      <td>2018-07-09 00:00:00</td>\n",
       "      <td>0.19</td>\n",
       "      <td>1.00</td>\n",
       "      <td>0.00</td>\n",
       "    </tr>\n",
       "    <tr>\n",
       "      <th>50%</th>\n",
       "      <td>18873394.00</td>\n",
       "      <td>28371425.50</td>\n",
       "      <td>40.72</td>\n",
       "      <td>-73.95</td>\n",
       "      <td>101.00</td>\n",
       "      <td>2.00</td>\n",
       "      <td>9.00</td>\n",
       "      <td>2019-05-19 00:00:00</td>\n",
       "      <td>0.72</td>\n",
       "      <td>1.00</td>\n",
       "      <td>55.00</td>\n",
       "    </tr>\n",
       "    <tr>\n",
       "      <th>75%</th>\n",
       "      <td>27567918.25</td>\n",
       "      <td>101909249.00</td>\n",
       "      <td>40.76</td>\n",
       "      <td>-73.94</td>\n",
       "      <td>170.00</td>\n",
       "      <td>4.00</td>\n",
       "      <td>33.00</td>\n",
       "      <td>2019-06-23 00:00:00</td>\n",
       "      <td>2.02</td>\n",
       "      <td>2.00</td>\n",
       "      <td>229.00</td>\n",
       "    </tr>\n",
       "    <tr>\n",
       "      <th>max</th>\n",
       "      <td>36455809.00</td>\n",
       "      <td>273841667.00</td>\n",
       "      <td>40.91</td>\n",
       "      <td>-73.71</td>\n",
       "      <td>10000.00</td>\n",
       "      <td>1250.00</td>\n",
       "      <td>629.00</td>\n",
       "      <td>2019-07-08 00:00:00</td>\n",
       "      <td>58.50</td>\n",
       "      <td>327.00</td>\n",
       "      <td>365.00</td>\n",
       "    </tr>\n",
       "    <tr>\n",
       "      <th>std</th>\n",
       "      <td>10693465.53</td>\n",
       "      <td>75897793.59</td>\n",
       "      <td>0.05</td>\n",
       "      <td>0.05</td>\n",
       "      <td>197.00</td>\n",
       "      <td>17.39</td>\n",
       "      <td>48.18</td>\n",
       "      <td>NaN</td>\n",
       "      <td>1.68</td>\n",
       "      <td>26.30</td>\n",
       "      <td>129.53</td>\n",
       "    </tr>\n",
       "  </tbody>\n",
       "</table>\n",
       "</div>"
      ],
      "text/plain": [
       "               id      host_id  latitude  longitude    price  minimo_noites  \\\n",
       "count    38820.00     38820.00  38820.00   38820.00 38820.00       38820.00   \n",
       "mean  18101274.43  64247473.53     40.73     -73.95   142.33           5.87   \n",
       "min       2595.00      2438.00     40.51     -74.24     0.00           1.00   \n",
       "25%    8722029.00   7032516.75     40.69     -73.98    69.00           1.00   \n",
       "50%   18873394.00  28371425.50     40.72     -73.95   101.00           2.00   \n",
       "75%   27567918.25 101909249.00     40.76     -73.94   170.00           4.00   \n",
       "max   36455809.00 273841667.00     40.91     -73.71 10000.00        1250.00   \n",
       "std   10693465.53  75897793.59      0.05       0.05   197.00          17.39   \n",
       "\n",
       "       numero_de_reviews                  ultima_review  reviews_por_mes  \\\n",
       "count           38820.00                          38820         38820.00   \n",
       "mean               29.29  2018-10-04 07:23:14.374033920             1.37   \n",
       "min                 1.00            2011-03-28 00:00:00             0.01   \n",
       "25%                 3.00            2018-07-09 00:00:00             0.19   \n",
       "50%                 9.00            2019-05-19 00:00:00             0.72   \n",
       "75%                33.00            2019-06-23 00:00:00             2.02   \n",
       "max               629.00            2019-07-08 00:00:00            58.50   \n",
       "std                48.18                            NaN             1.68   \n",
       "\n",
       "       calculado_host_listings_count  disponibilidade_365  \n",
       "count                       38820.00             38820.00  \n",
       "mean                            5.17               114.88  \n",
       "min                             1.00                 0.00  \n",
       "25%                             1.00                 0.00  \n",
       "50%                             1.00                55.00  \n",
       "75%                             2.00               229.00  \n",
       "max                           327.00               365.00  \n",
       "std                            26.30               129.53  "
      ]
     },
     "execution_count": 20,
     "metadata": {},
     "output_type": "execute_result"
    }
   ],
   "source": [
    "base1.describe()"
   ]
  },
  {
   "cell_type": "code",
   "execution_count": 30,
   "metadata": {},
   "outputs": [
    {
     "data": {
      "text/plain": [
       "(38820, 16)"
      ]
     },
     "execution_count": 30,
     "metadata": {},
     "output_type": "execute_result"
    }
   ],
   "source": [
    "base1.shape"
   ]
  },
  {
   "cell_type": "markdown",
   "metadata": {},
   "source": [
    "## Analise dos Dados"
   ]
  },
  {
   "cell_type": "code",
   "execution_count": 31,
   "metadata": {},
   "outputs": [
    {
     "data": {
      "text/html": [
       "<div>\n",
       "<style scoped>\n",
       "    .dataframe tbody tr th:only-of-type {\n",
       "        vertical-align: middle;\n",
       "    }\n",
       "\n",
       "    .dataframe tbody tr th {\n",
       "        vertical-align: top;\n",
       "    }\n",
       "\n",
       "    .dataframe thead th {\n",
       "        text-align: right;\n",
       "    }\n",
       "</style>\n",
       "<table border=\"1\" class=\"dataframe\">\n",
       "  <thead>\n",
       "    <tr style=\"text-align: right;\">\n",
       "      <th></th>\n",
       "      <th>id</th>\n",
       "      <th>host_id</th>\n",
       "      <th>latitude</th>\n",
       "      <th>longitude</th>\n",
       "      <th>price</th>\n",
       "      <th>minimo_noites</th>\n",
       "      <th>numero_de_reviews</th>\n",
       "      <th>reviews_por_mes</th>\n",
       "      <th>calculado_host_listings_count</th>\n",
       "      <th>disponibilidade_365</th>\n",
       "    </tr>\n",
       "  </thead>\n",
       "  <tbody>\n",
       "    <tr>\n",
       "      <th>count</th>\n",
       "      <td>48894.00</td>\n",
       "      <td>48894.00</td>\n",
       "      <td>48894.00</td>\n",
       "      <td>48894.00</td>\n",
       "      <td>48894.00</td>\n",
       "      <td>48894.00</td>\n",
       "      <td>48894.00</td>\n",
       "      <td>38842.00</td>\n",
       "      <td>48894.00</td>\n",
       "      <td>48894.00</td>\n",
       "    </tr>\n",
       "    <tr>\n",
       "      <th>mean</th>\n",
       "      <td>19017532.13</td>\n",
       "      <td>67621393.58</td>\n",
       "      <td>40.73</td>\n",
       "      <td>-73.95</td>\n",
       "      <td>152.72</td>\n",
       "      <td>7.03</td>\n",
       "      <td>23.27</td>\n",
       "      <td>1.37</td>\n",
       "      <td>7.14</td>\n",
       "      <td>112.78</td>\n",
       "    </tr>\n",
       "    <tr>\n",
       "      <th>std</th>\n",
       "      <td>10982884.05</td>\n",
       "      <td>78611176.15</td>\n",
       "      <td>0.05</td>\n",
       "      <td>0.05</td>\n",
       "      <td>240.16</td>\n",
       "      <td>20.51</td>\n",
       "      <td>44.55</td>\n",
       "      <td>1.68</td>\n",
       "      <td>32.95</td>\n",
       "      <td>131.62</td>\n",
       "    </tr>\n",
       "    <tr>\n",
       "      <th>min</th>\n",
       "      <td>2595.00</td>\n",
       "      <td>2438.00</td>\n",
       "      <td>40.50</td>\n",
       "      <td>-74.24</td>\n",
       "      <td>0.00</td>\n",
       "      <td>1.00</td>\n",
       "      <td>0.00</td>\n",
       "      <td>0.01</td>\n",
       "      <td>1.00</td>\n",
       "      <td>0.00</td>\n",
       "    </tr>\n",
       "    <tr>\n",
       "      <th>25%</th>\n",
       "      <td>9472370.75</td>\n",
       "      <td>7822736.75</td>\n",
       "      <td>40.69</td>\n",
       "      <td>-73.98</td>\n",
       "      <td>69.00</td>\n",
       "      <td>1.00</td>\n",
       "      <td>1.00</td>\n",
       "      <td>0.19</td>\n",
       "      <td>1.00</td>\n",
       "      <td>0.00</td>\n",
       "    </tr>\n",
       "    <tr>\n",
       "      <th>50%</th>\n",
       "      <td>19677431.50</td>\n",
       "      <td>30795529.00</td>\n",
       "      <td>40.72</td>\n",
       "      <td>-73.96</td>\n",
       "      <td>106.00</td>\n",
       "      <td>3.00</td>\n",
       "      <td>5.00</td>\n",
       "      <td>0.72</td>\n",
       "      <td>1.00</td>\n",
       "      <td>45.00</td>\n",
       "    </tr>\n",
       "    <tr>\n",
       "      <th>75%</th>\n",
       "      <td>29152249.25</td>\n",
       "      <td>107434423.00</td>\n",
       "      <td>40.76</td>\n",
       "      <td>-73.94</td>\n",
       "      <td>175.00</td>\n",
       "      <td>5.00</td>\n",
       "      <td>24.00</td>\n",
       "      <td>2.02</td>\n",
       "      <td>2.00</td>\n",
       "      <td>227.00</td>\n",
       "    </tr>\n",
       "    <tr>\n",
       "      <th>max</th>\n",
       "      <td>36487245.00</td>\n",
       "      <td>274321313.00</td>\n",
       "      <td>40.91</td>\n",
       "      <td>-73.71</td>\n",
       "      <td>10000.00</td>\n",
       "      <td>1250.00</td>\n",
       "      <td>629.00</td>\n",
       "      <td>58.50</td>\n",
       "      <td>327.00</td>\n",
       "      <td>365.00</td>\n",
       "    </tr>\n",
       "  </tbody>\n",
       "</table>\n",
       "</div>"
      ],
      "text/plain": [
       "               id      host_id  latitude  longitude    price  minimo_noites  \\\n",
       "count    48894.00     48894.00  48894.00   48894.00 48894.00       48894.00   \n",
       "mean  19017532.13  67621393.58     40.73     -73.95   152.72           7.03   \n",
       "std   10982884.05  78611176.15      0.05       0.05   240.16          20.51   \n",
       "min       2595.00      2438.00     40.50     -74.24     0.00           1.00   \n",
       "25%    9472370.75   7822736.75     40.69     -73.98    69.00           1.00   \n",
       "50%   19677431.50  30795529.00     40.72     -73.96   106.00           3.00   \n",
       "75%   29152249.25 107434423.00     40.76     -73.94   175.00           5.00   \n",
       "max   36487245.00 274321313.00     40.91     -73.71 10000.00        1250.00   \n",
       "\n",
       "       numero_de_reviews  reviews_por_mes  calculado_host_listings_count  \\\n",
       "count           48894.00         38842.00                       48894.00   \n",
       "mean               23.27             1.37                           7.14   \n",
       "std                44.55             1.68                          32.95   \n",
       "min                 0.00             0.01                           1.00   \n",
       "25%                 1.00             0.19                           1.00   \n",
       "50%                 5.00             0.72                           1.00   \n",
       "75%                24.00             2.02                           2.00   \n",
       "max               629.00            58.50                         327.00   \n",
       "\n",
       "       disponibilidade_365  \n",
       "count             48894.00  \n",
       "mean                112.78  \n",
       "std                 131.62  \n",
       "min                   0.00  \n",
       "25%                   0.00  \n",
       "50%                  45.00  \n",
       "75%                 227.00  \n",
       "max                 365.00  "
      ]
     },
     "execution_count": 31,
     "metadata": {},
     "output_type": "execute_result"
    }
   ],
   "source": [
    "base.describe()"
   ]
  },
  {
   "cell_type": "code",
   "execution_count": 32,
   "metadata": {},
   "outputs": [
    {
     "data": {
      "text/plain": [
       "bairro\n",
       "Williamsburg          3163\n",
       "Bedford-Stuyvesant    3141\n",
       "Harlem                2204\n",
       "Bushwick              1942\n",
       "Hell's Kitchen        1528\n",
       "                      ... \n",
       "Olinville                2\n",
       "New Dorp Beach           2\n",
       "Richmondtown             1\n",
       "Rossville                1\n",
       "Willowbrook              1\n",
       "Name: count, Length: 218, dtype: int64"
      ]
     },
     "execution_count": 32,
     "metadata": {},
     "output_type": "execute_result"
    }
   ],
   "source": [
    "# imoveis cadastrados por bairro\n",
    "base1['bairro'].value_counts()"
   ]
  },
  {
   "cell_type": "code",
   "execution_count": 52,
   "metadata": {},
   "outputs": [
    {
     "data": {
      "text/plain": [
       "bairro_group\n",
       "Manhattan       0.43\n",
       "Brooklyn        0.42\n",
       "Queens          0.12\n",
       "Bronx           0.02\n",
       "Staten Island   0.01\n",
       "Name: proportion, dtype: float64"
      ]
     },
     "execution_count": 52,
     "metadata": {},
     "output_type": "execute_result"
    }
   ],
   "source": [
    "# Imoveis cadastrados por Grupo de Bairros\n",
    "base1['bairro_group'].value_counts(1)"
   ]
  },
  {
   "cell_type": "code",
   "execution_count": 53,
   "metadata": {},
   "outputs": [
    {
     "data": {
      "image/png": "[encoded data removed]",
      "text/plain": [
       "<Figure size 640x480 with 1 Axes>"
      ]
     },
     "metadata": {},
     "output_type": "display_data"
    }
   ],
   "source": [
    "_=base1.bairro_group.value_counts(1).plot.bar()"
   ]
  },
  {
   "cell_type": "markdown",
   "metadata": {},
   "source": [
    "*43% dos imoveis cadastrados estão localizados em Manhattan*\n",
    "\n",
    "*42% no Broklin*\n",
    "\n",
    "*12% no Queens*\n",
    "\n",
    "*2%  no Bronx*\n",
    "\n",
    "*1%  no Staten Island*"
   ]
  },
  {
   "cell_type": "code",
   "execution_count": 50,
   "metadata": {},
   "outputs": [
    {
     "data": {
      "text/plain": [
       "bairro\n",
       "Williamsburg          3163\n",
       "Bedford-Stuyvesant    3141\n",
       "Harlem                2204\n",
       "Bushwick              1942\n",
       "Hell's Kitchen        1528\n",
       "                      ... \n",
       "Olinville                2\n",
       "New Dorp Beach           2\n",
       "Richmondtown             1\n",
       "Rossville                1\n",
       "Willowbrook              1\n",
       "Name: count, Length: 218, dtype: int64"
      ]
     },
     "execution_count": 50,
     "metadata": {},
     "output_type": "execute_result"
    }
   ],
   "source": [
    "# Quantidade de imoveis por bairro\n",
    "base1.bairro.value_counts()"
   ]
  },
  {
   "cell_type": "code",
   "execution_count": 51,
   "metadata": {},
   "outputs": [
    {
     "data": {
      "image/png": "[encoded data removed]",
      "text/plain": [
       "<Figure size 640x480 with 1 Axes>"
      ]
     },
     "metadata": {},
     "output_type": "display_data"
    }
   ],
   "source": [
    "_=base1.bairro.value_counts().plot.line()"
   ]
  },
  {
   "cell_type": "code",
   "execution_count": 76,
   "metadata": {},
   "outputs": [
    {
     "data": {
      "image/png": "[encoded data removed]",
      "text/plain": [
       "<Figure size 640x480 with 1 Axes>"
      ]
     },
     "metadata": {},
     "output_type": "display_data"
    }
   ],
   "source": [
    "_=base1.price.value_counts().plot.bar()"
   ]
  },
  {
   "cell_type": "code",
   "execution_count": 69,
   "metadata": {},
   "outputs": [
    {
     "data": {
      "image/png": "[encoded data removed]",
      "text/plain": [
       "<Figure size 640x480 with 1 Axes>"
      ]
     },
     "metadata": {},
     "output_type": "display_data"
    }
   ],
   "source": [
    "_ = sbn.scatterplot(x='reviews_por_mes', y='price', data = base1)"
   ]
  },
  {
   "cell_type": "markdown",
   "metadata": {},
   "source": [
    "##### Perguntas:"
   ]
  },
  {
   "cell_type": "markdown",
   "metadata": {},
   "source": [
    "Supondo que uma pessoa esteja pensando em investir em um apartamento para alugar na plataforma, onde seria mais indicada a compra?\n"
   ]
  },
  {
   "cell_type": "code",
   "execution_count": 87,
   "metadata": {},
   "outputs": [
    {
     "data": {
      "text/html": [
       "<div>\n",
       "<style scoped>\n",
       "    .dataframe tbody tr th:only-of-type {\n",
       "        vertical-align: middle;\n",
       "    }\n",
       "\n",
       "    .dataframe tbody tr th {\n",
       "        vertical-align: top;\n",
       "    }\n",
       "\n",
       "    .dataframe thead th {\n",
       "        text-align: right;\n",
       "    }\n",
       "</style>\n",
       "<table border=\"1\" class=\"dataframe\">\n",
       "  <thead>\n",
       "    <tr style=\"text-align: right;\">\n",
       "      <th></th>\n",
       "      <th>id</th>\n",
       "      <th>nome</th>\n",
       "      <th>host_id</th>\n",
       "      <th>host_name</th>\n",
       "      <th>bairro_group</th>\n",
       "      <th>bairro</th>\n",
       "      <th>latitude</th>\n",
       "      <th>longitude</th>\n",
       "      <th>room_type</th>\n",
       "      <th>price</th>\n",
       "      <th>minimo_noites</th>\n",
       "      <th>numero_de_reviews</th>\n",
       "      <th>ultima_review</th>\n",
       "      <th>reviews_por_mes</th>\n",
       "      <th>calculado_host_listings_count</th>\n",
       "      <th>disponibilidade_365</th>\n",
       "    </tr>\n",
       "  </thead>\n",
       "  <tbody>\n",
       "    <tr>\n",
       "      <th>9150</th>\n",
       "      <td>7003697</td>\n",
       "      <td>Furnished room in Astoria apartment</td>\n",
       "      <td>20582832</td>\n",
       "      <td>Kathrine</td>\n",
       "      <td>Queens</td>\n",
       "      <td>Astoria</td>\n",
       "      <td>40.77</td>\n",
       "      <td>-73.92</td>\n",
       "      <td>Private room</td>\n",
       "      <td>10000.00</td>\n",
       "      <td>100</td>\n",
       "      <td>2</td>\n",
       "      <td>2016-02-13</td>\n",
       "      <td>0.04</td>\n",
       "      <td>1</td>\n",
       "      <td>0</td>\n",
       "    </tr>\n",
       "    <tr>\n",
       "      <th>17691</th>\n",
       "      <td>13894339</td>\n",
       "      <td>Luxury 1 bedroom apt. -stunning Manhattan views</td>\n",
       "      <td>5143901</td>\n",
       "      <td>Erin</td>\n",
       "      <td>Brooklyn</td>\n",
       "      <td>Greenpoint</td>\n",
       "      <td>40.73</td>\n",
       "      <td>-73.96</td>\n",
       "      <td>Entire home/apt</td>\n",
       "      <td>10000.00</td>\n",
       "      <td>5</td>\n",
       "      <td>5</td>\n",
       "      <td>2017-07-27</td>\n",
       "      <td>0.16</td>\n",
       "      <td>1</td>\n",
       "      <td>0</td>\n",
       "    </tr>\n",
       "  </tbody>\n",
       "</table>\n",
       "</div>"
      ],
      "text/plain": [
       "             id                                             nome   host_id  \\\n",
       "9150    7003697              Furnished room in Astoria apartment  20582832   \n",
       "17691  13894339  Luxury 1 bedroom apt. -stunning Manhattan views   5143901   \n",
       "\n",
       "      host_name bairro_group      bairro  latitude  longitude  \\\n",
       "9150   Kathrine       Queens     Astoria     40.77     -73.92   \n",
       "17691      Erin     Brooklyn  Greenpoint     40.73     -73.96   \n",
       "\n",
       "             room_type    price  minimo_noites  numero_de_reviews  \\\n",
       "9150      Private room 10000.00            100                  2   \n",
       "17691  Entire home/apt 10000.00              5                  5   \n",
       "\n",
       "      ultima_review  reviews_por_mes  calculado_host_listings_count  \\\n",
       "9150     2016-02-13             0.04                              1   \n",
       "17691    2017-07-27             0.16                              1   \n",
       "\n",
       "       disponibilidade_365  \n",
       "9150                     0  \n",
       "17691                    0  "
      ]
     },
     "execution_count": 87,
     "metadata": {},
     "output_type": "execute_result"
    }
   ],
   "source": [
    "base1.query('price==10000')"
   ]
  },
  {
   "cell_type": "markdown",
   "metadata": {},
   "source": [
    "O número mínimo de noites e a disponibilidade ao longo do ano interferem no preço?"
   ]
  },
  {
   "cell_type": "markdown",
   "metadata": {},
   "source": [
    "Existe algum padrão no texto do nome do local para lugares de mais alto valor?"
   ]
  },
  {
   "cell_type": "markdown",
   "metadata": {},
   "source": [
    "Explique como você faria a previsão do preço a partir dos dados. Quais variáveis e/ou suas transformações você utilizou e por quê? Qual tipo de problema estamos resolvendo (regressão, classificação)? Qual modelo melhor se aproxima dos dados e quais seus prós e contras? Qual medida de performance do modelo foi escolhida e por quê?"
   ]
  },
  {
   "cell_type": "markdown",
   "metadata": {},
   "source": [
    "##### Supondo um apartamento com as seguintes características:\n",
    "\n",
    "*'id': 2595,*\n",
    "\n",
    " *'nome': 'Skylit Midtown Castle',*\n",
    "\n",
    " *'host_id': 2845,*\n",
    "\n",
    " *'host_name': 'Jennifer',*\n",
    "\n",
    " *'bairro_group': 'Manhattan',*\n",
    "\n",
    " *'bairro': 'Midtown',*\n",
    "\n",
    " *'latitude': 40.75362,*\n",
    "\n",
    " *'longitude': -73.98377,*\n",
    "\n",
    " *'room_type': 'Entire home/apt',*\n",
    "\n",
    " *'minimo_noites': 1,*\n",
    "\n",
    " *'numero_de_reviews': 45,*\n",
    "\n",
    " *'ultima_review': '2019-05-21',*\n",
    "\n",
    " *'reviews_por_mes': 0.38,*\n",
    "\n",
    " *'calculado_host_listings_count': 2,*\n",
    "\n",
    " *'disponibilidade_365': 355*\n",
    "\n",
    "\n",
    "Qual seria a sua sugestão de preço?"
   ]
  },
  {
   "cell_type": "code",
   "execution_count": 85,
   "metadata": {},
   "outputs": [
    {
     "data": {
      "text/html": [
       "<div>\n",
       "<style scoped>\n",
       "    .dataframe tbody tr th:only-of-type {\n",
       "        vertical-align: middle;\n",
       "    }\n",
       "\n",
       "    .dataframe tbody tr th {\n",
       "        vertical-align: top;\n",
       "    }\n",
       "\n",
       "    .dataframe thead th {\n",
       "        text-align: right;\n",
       "    }\n",
       "</style>\n",
       "<table border=\"1\" class=\"dataframe\">\n",
       "  <thead>\n",
       "    <tr style=\"text-align: right;\">\n",
       "      <th></th>\n",
       "      <th>id</th>\n",
       "      <th>nome</th>\n",
       "      <th>host_id</th>\n",
       "      <th>host_name</th>\n",
       "      <th>bairro_group</th>\n",
       "      <th>bairro</th>\n",
       "      <th>latitude</th>\n",
       "      <th>longitude</th>\n",
       "      <th>room_type</th>\n",
       "      <th>price</th>\n",
       "      <th>minimo_noites</th>\n",
       "      <th>numero_de_reviews</th>\n",
       "      <th>ultima_review</th>\n",
       "      <th>reviews_por_mes</th>\n",
       "      <th>calculado_host_listings_count</th>\n",
       "      <th>disponibilidade_365</th>\n",
       "    </tr>\n",
       "  </thead>\n",
       "  <tbody>\n",
       "    <tr>\n",
       "      <th>0</th>\n",
       "      <td>2595</td>\n",
       "      <td>Skylit Midtown Castle</td>\n",
       "      <td>2845</td>\n",
       "      <td>Jennifer</td>\n",
       "      <td>Manhattan</td>\n",
       "      <td>Midtown</td>\n",
       "      <td>40.75</td>\n",
       "      <td>-73.98</td>\n",
       "      <td>Entire home/apt</td>\n",
       "      <td>225.00</td>\n",
       "      <td>1</td>\n",
       "      <td>45</td>\n",
       "      <td>2019-05-21</td>\n",
       "      <td>0.38</td>\n",
       "      <td>2</td>\n",
       "      <td>355</td>\n",
       "    </tr>\n",
       "  </tbody>\n",
       "</table>\n",
       "</div>"
      ],
      "text/plain": [
       "     id                   nome  host_id host_name bairro_group   bairro  \\\n",
       "0  2595  Skylit Midtown Castle     2845  Jennifer    Manhattan  Midtown   \n",
       "\n",
       "   latitude  longitude        room_type  price  minimo_noites  \\\n",
       "0     40.75     -73.98  Entire home/apt 225.00              1   \n",
       "\n",
       "   numero_de_reviews ultima_review  reviews_por_mes  \\\n",
       "0                 45    2019-05-21             0.38   \n",
       "\n",
       "   calculado_host_listings_count  disponibilidade_365  \n",
       "0                              2                  355  "
      ]
     },
     "execution_count": 85,
     "metadata": {},
     "output_type": "execute_result"
    }
   ],
   "source": [
    "base1.query('id == 2595')"
   ]
  },
  {
   "cell_type": "markdown",
   "metadata": {},
   "source": [
    "*Sugestão de preço, $225,00*"
   ]
  },
  {
   "cell_type": "markdown",
   "metadata": {},
   "source": []
  }
 ],
 "metadata": {
  "kernelspec": {
   "display_name": "Python 3",
   "language": "python",
   "name": "python3"
  },
  "language_info": {
   "codemirror_mode": {
    "name": "ipython",
    "version": 3
   },
   "file_extension": ".py",
   "mimetype": "text/x-python",
   "name": "python",
   "nbconvert_exporter": "python",
   "pygments_lexer": "ipython3",
   "version": "3.12.4"
  }
 },
 "nbformat": 4,
 "nbformat_minor": 2
}
